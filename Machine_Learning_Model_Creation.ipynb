{
 "cells": [
  {
   "cell_type": "code",
   "execution_count": 3,
   "id": "d16754a3",
   "metadata": {},
   "outputs": [],
   "source": [
    "import pandas as pd\n",
    "import matplotlib.pyplot as plt\n",
    "import seaborn as sns\n",
    "import numpy as np\n",
    "import chardet#for encoding\n",
    "import warnings# to avoid the warnings\n",
    "warnings.filterwarnings('ignore')\n",
    "pd.pandas.set_option('display.max_columns',0)"
   ]
  },
  {
   "cell_type": "code",
   "execution_count": 4,
   "id": "aba5dee3",
   "metadata": {},
   "outputs": [
    {
     "data": {
      "text/html": [
       "<div>\n",
       "<style scoped>\n",
       "    .dataframe tbody tr th:only-of-type {\n",
       "        vertical-align: middle;\n",
       "    }\n",
       "\n",
       "    .dataframe tbody tr th {\n",
       "        vertical-align: top;\n",
       "    }\n",
       "\n",
       "    .dataframe thead th {\n",
       "        text-align: right;\n",
       "    }\n",
       "</style>\n",
       "<table border=\"1\" class=\"dataframe\">\n",
       "  <thead>\n",
       "    <tr style=\"text-align: right;\">\n",
       "      <th></th>\n",
       "    </tr>\n",
       "    <tr>\n",
       "      <th>version https://git-lfs.github.com/spec/v1</th>\n",
       "    </tr>\n",
       "  </thead>\n",
       "  <tbody>\n",
       "    <tr>\n",
       "      <th>oid sha256:3467e57e1552c62af433fbae454e3a2c51015f08cb4a28ecc884ceef4a9d97be</th>\n",
       "    </tr>\n",
       "    <tr>\n",
       "      <th>size 77952016</th>\n",
       "    </tr>\n",
       "  </tbody>\n",
       "</table>\n",
       "</div>"
      ],
      "text/plain": [
       "Empty DataFrame\n",
       "Columns: []\n",
       "Index: [oid sha256:3467e57e1552c62af433fbae454e3a2c51015f08cb4a28ecc884ceef4a9d97be, size 77952016]"
      ]
     },
     "execution_count": 4,
     "metadata": {},
     "output_type": "execute_result"
    }
   ],
   "source": [
    "data=pd.read_csv(\"D:\\ml\\Housing_Price_Prediction-master\\Data_For_Model.csv\",index_col=0)\n",
    "data.head()"
   ]
  },
  {
   "cell_type": "markdown",
   "id": "88309f44",
   "metadata": {},
   "source": [
    "Choosing Best Machine Learning Model,top features for our model are\n",
    "\n",
    "1> tradeTime\n",
    "\n",
    "2> CommunityAverage\n",
    "\n",
    "3> square\n",
    "\n",
    "4> livingRoom\n",
    "\n",
    "5> bathRoom\n",
    "\n",
    "6> drawingRoom\n",
    "\n",
    "7> renovationCondition\n",
    "\n",
    "8> buildingStructure\n",
    "\n",
    "9> elevator\n",
    "\n",
    "10> constructionTime\n",
    "\n",
    "11> Followers"
   ]
  },
  {
   "cell_type": "code",
   "execution_count": 5,
   "id": "22843ac6",
   "metadata": {},
   "outputs": [
    {
     "data": {
      "text/plain": [
       "Index([], dtype='object')"
      ]
     },
     "execution_count": 5,
     "metadata": {},
     "output_type": "execute_result"
    }
   ],
   "source": [
    "data.columns"
   ]
  },
  {
   "cell_type": "code",
   "execution_count": 10,
   "id": "88f39d95",
   "metadata": {},
   "outputs": [],
   "source": [
    "# data.drop(columns=[\"Lng\",\"Lat\",\"ladderRatio\",\"fiveYearsProperty\",\"subway\",\"floor_height\",\n",
    "#                   \"buildingType_2.0\",\"buildingType_3.0\",\"buildingType_4.0\",\"district_2\",\n",
    "#                   \"district_3\",\"district_4\",\"district_5\",\"district_6\",\"district_7\",\n",
    "#                   \"district_8\",\"district_9\",\"district_10\",\"district_11\",\"district_12\",\n",
    "#                   \"district_13\",\"floor_type_低\",\"floor_type_底\",\"floor_type_未知\",\n",
    "#                   \"floor_type_顶\",\"floor_type_高\"],inplace=True,axis=1)"
   ]
  },
  {
   "cell_type": "code",
   "execution_count": 7,
   "id": "b8df3ac3",
   "metadata": {},
   "outputs": [
    {
     "data": {
      "text/plain": [
       "(2, 0)"
      ]
     },
     "execution_count": 7,
     "metadata": {},
     "output_type": "execute_result"
    }
   ],
   "source": [
    "data.shape"
   ]
  },
  {
   "cell_type": "code",
   "execution_count": 8,
   "id": "26f5ef94",
   "metadata": {},
   "outputs": [
    {
     "data": {
      "text/plain": [
       "Index([], dtype='object')"
      ]
     },
     "execution_count": 8,
     "metadata": {},
     "output_type": "execute_result"
    }
   ],
   "source": [
    "data.columns"
   ]
  },
  {
   "cell_type": "markdown",
   "id": "2f6bfddb",
   "metadata": {},
   "source": [
    "List of the model that we can use for our problem\n",
    "\n",
    "1> LinearRegression model\n",
    "\n",
    "2> KNN Model\n",
    "\n",
    "3> Decesion Tree\n",
    "\n",
    "4> Random Forest"
   ]
  },
  {
   "cell_type": "code",
   "execution_count": 9,
   "id": "826088c7",
   "metadata": {},
   "outputs": [
    {
     "ename": "KeyError",
     "evalue": "\"['totalPrice'] not found in axis\"",
     "output_type": "error",
     "traceback": [
      "\u001b[1;31m---------------------------------------------------------------------------\u001b[0m",
      "\u001b[1;31mKeyError\u001b[0m                                  Traceback (most recent call last)",
      "Cell \u001b[1;32mIn[9], line 2\u001b[0m\n\u001b[0;32m      1\u001b[0m \u001b[38;5;66;03m#input features for model\u001b[39;00m\n\u001b[1;32m----> 2\u001b[0m X\u001b[38;5;241m=\u001b[39m\u001b[43mdata\u001b[49m\u001b[38;5;241;43m.\u001b[39;49m\u001b[43mdrop\u001b[49m\u001b[43m(\u001b[49m\u001b[43m[\u001b[49m\u001b[38;5;124;43m'\u001b[39;49m\u001b[38;5;124;43mtotalPrice\u001b[39;49m\u001b[38;5;124;43m'\u001b[39;49m\u001b[43m]\u001b[49m\u001b[43m,\u001b[49m\u001b[43maxis\u001b[49m\u001b[38;5;241;43m=\u001b[39;49m\u001b[38;5;241;43m1\u001b[39;49m\u001b[43m)\u001b[49m\n\u001b[0;32m      3\u001b[0m \u001b[38;5;66;03m#output features for model\u001b[39;00m\n\u001b[0;32m      4\u001b[0m y\u001b[38;5;241m=\u001b[39mdata[\u001b[38;5;124m'\u001b[39m\u001b[38;5;124mtotalPrice\u001b[39m\u001b[38;5;124m'\u001b[39m]\n",
      "File \u001b[1;32mc:\\Users\\Deyo\\AppData\\Local\\Programs\\Python\\Python312\\Lib\\site-packages\\pandas\\core\\frame.py:5581\u001b[0m, in \u001b[0;36mDataFrame.drop\u001b[1;34m(self, labels, axis, index, columns, level, inplace, errors)\u001b[0m\n\u001b[0;32m   5433\u001b[0m \u001b[38;5;28;01mdef\u001b[39;00m \u001b[38;5;21mdrop\u001b[39m(\n\u001b[0;32m   5434\u001b[0m     \u001b[38;5;28mself\u001b[39m,\n\u001b[0;32m   5435\u001b[0m     labels: IndexLabel \u001b[38;5;241m|\u001b[39m \u001b[38;5;28;01mNone\u001b[39;00m \u001b[38;5;241m=\u001b[39m \u001b[38;5;28;01mNone\u001b[39;00m,\n\u001b[1;32m   (...)\u001b[0m\n\u001b[0;32m   5442\u001b[0m     errors: IgnoreRaise \u001b[38;5;241m=\u001b[39m \u001b[38;5;124m\"\u001b[39m\u001b[38;5;124mraise\u001b[39m\u001b[38;5;124m\"\u001b[39m,\n\u001b[0;32m   5443\u001b[0m ) \u001b[38;5;241m-\u001b[39m\u001b[38;5;241m>\u001b[39m DataFrame \u001b[38;5;241m|\u001b[39m \u001b[38;5;28;01mNone\u001b[39;00m:\n\u001b[0;32m   5444\u001b[0m \u001b[38;5;250m    \u001b[39m\u001b[38;5;124;03m\"\"\"\u001b[39;00m\n\u001b[0;32m   5445\u001b[0m \u001b[38;5;124;03m    Drop specified labels from rows or columns.\u001b[39;00m\n\u001b[0;32m   5446\u001b[0m \n\u001b[1;32m   (...)\u001b[0m\n\u001b[0;32m   5579\u001b[0m \u001b[38;5;124;03m            weight  1.0     0.8\u001b[39;00m\n\u001b[0;32m   5580\u001b[0m \u001b[38;5;124;03m    \"\"\"\u001b[39;00m\n\u001b[1;32m-> 5581\u001b[0m     \u001b[38;5;28;01mreturn\u001b[39;00m \u001b[38;5;28;43msuper\u001b[39;49m\u001b[43m(\u001b[49m\u001b[43m)\u001b[49m\u001b[38;5;241;43m.\u001b[39;49m\u001b[43mdrop\u001b[49m\u001b[43m(\u001b[49m\n\u001b[0;32m   5582\u001b[0m \u001b[43m        \u001b[49m\u001b[43mlabels\u001b[49m\u001b[38;5;241;43m=\u001b[39;49m\u001b[43mlabels\u001b[49m\u001b[43m,\u001b[49m\n\u001b[0;32m   5583\u001b[0m \u001b[43m        \u001b[49m\u001b[43maxis\u001b[49m\u001b[38;5;241;43m=\u001b[39;49m\u001b[43maxis\u001b[49m\u001b[43m,\u001b[49m\n\u001b[0;32m   5584\u001b[0m \u001b[43m        \u001b[49m\u001b[43mindex\u001b[49m\u001b[38;5;241;43m=\u001b[39;49m\u001b[43mindex\u001b[49m\u001b[43m,\u001b[49m\n\u001b[0;32m   5585\u001b[0m \u001b[43m        \u001b[49m\u001b[43mcolumns\u001b[49m\u001b[38;5;241;43m=\u001b[39;49m\u001b[43mcolumns\u001b[49m\u001b[43m,\u001b[49m\n\u001b[0;32m   5586\u001b[0m \u001b[43m        \u001b[49m\u001b[43mlevel\u001b[49m\u001b[38;5;241;43m=\u001b[39;49m\u001b[43mlevel\u001b[49m\u001b[43m,\u001b[49m\n\u001b[0;32m   5587\u001b[0m \u001b[43m        \u001b[49m\u001b[43minplace\u001b[49m\u001b[38;5;241;43m=\u001b[39;49m\u001b[43minplace\u001b[49m\u001b[43m,\u001b[49m\n\u001b[0;32m   5588\u001b[0m \u001b[43m        \u001b[49m\u001b[43merrors\u001b[49m\u001b[38;5;241;43m=\u001b[39;49m\u001b[43merrors\u001b[49m\u001b[43m,\u001b[49m\n\u001b[0;32m   5589\u001b[0m \u001b[43m    \u001b[49m\u001b[43m)\u001b[49m\n",
      "File \u001b[1;32mc:\\Users\\Deyo\\AppData\\Local\\Programs\\Python\\Python312\\Lib\\site-packages\\pandas\\core\\generic.py:4788\u001b[0m, in \u001b[0;36mNDFrame.drop\u001b[1;34m(self, labels, axis, index, columns, level, inplace, errors)\u001b[0m\n\u001b[0;32m   4786\u001b[0m \u001b[38;5;28;01mfor\u001b[39;00m axis, labels \u001b[38;5;129;01min\u001b[39;00m axes\u001b[38;5;241m.\u001b[39mitems():\n\u001b[0;32m   4787\u001b[0m     \u001b[38;5;28;01mif\u001b[39;00m labels \u001b[38;5;129;01mis\u001b[39;00m \u001b[38;5;129;01mnot\u001b[39;00m \u001b[38;5;28;01mNone\u001b[39;00m:\n\u001b[1;32m-> 4788\u001b[0m         obj \u001b[38;5;241m=\u001b[39m \u001b[43mobj\u001b[49m\u001b[38;5;241;43m.\u001b[39;49m\u001b[43m_drop_axis\u001b[49m\u001b[43m(\u001b[49m\u001b[43mlabels\u001b[49m\u001b[43m,\u001b[49m\u001b[43m \u001b[49m\u001b[43maxis\u001b[49m\u001b[43m,\u001b[49m\u001b[43m \u001b[49m\u001b[43mlevel\u001b[49m\u001b[38;5;241;43m=\u001b[39;49m\u001b[43mlevel\u001b[49m\u001b[43m,\u001b[49m\u001b[43m \u001b[49m\u001b[43merrors\u001b[49m\u001b[38;5;241;43m=\u001b[39;49m\u001b[43merrors\u001b[49m\u001b[43m)\u001b[49m\n\u001b[0;32m   4790\u001b[0m \u001b[38;5;28;01mif\u001b[39;00m inplace:\n\u001b[0;32m   4791\u001b[0m     \u001b[38;5;28mself\u001b[39m\u001b[38;5;241m.\u001b[39m_update_inplace(obj)\n",
      "File \u001b[1;32mc:\\Users\\Deyo\\AppData\\Local\\Programs\\Python\\Python312\\Lib\\site-packages\\pandas\\core\\generic.py:4830\u001b[0m, in \u001b[0;36mNDFrame._drop_axis\u001b[1;34m(self, labels, axis, level, errors, only_slice)\u001b[0m\n\u001b[0;32m   4828\u001b[0m         new_axis \u001b[38;5;241m=\u001b[39m axis\u001b[38;5;241m.\u001b[39mdrop(labels, level\u001b[38;5;241m=\u001b[39mlevel, errors\u001b[38;5;241m=\u001b[39merrors)\n\u001b[0;32m   4829\u001b[0m     \u001b[38;5;28;01melse\u001b[39;00m:\n\u001b[1;32m-> 4830\u001b[0m         new_axis \u001b[38;5;241m=\u001b[39m \u001b[43maxis\u001b[49m\u001b[38;5;241;43m.\u001b[39;49m\u001b[43mdrop\u001b[49m\u001b[43m(\u001b[49m\u001b[43mlabels\u001b[49m\u001b[43m,\u001b[49m\u001b[43m \u001b[49m\u001b[43merrors\u001b[49m\u001b[38;5;241;43m=\u001b[39;49m\u001b[43merrors\u001b[49m\u001b[43m)\u001b[49m\n\u001b[0;32m   4831\u001b[0m     indexer \u001b[38;5;241m=\u001b[39m axis\u001b[38;5;241m.\u001b[39mget_indexer(new_axis)\n\u001b[0;32m   4833\u001b[0m \u001b[38;5;66;03m# Case for non-unique axis\u001b[39;00m\n\u001b[0;32m   4834\u001b[0m \u001b[38;5;28;01melse\u001b[39;00m:\n",
      "File \u001b[1;32mc:\\Users\\Deyo\\AppData\\Local\\Programs\\Python\\Python312\\Lib\\site-packages\\pandas\\core\\indexes\\base.py:7070\u001b[0m, in \u001b[0;36mIndex.drop\u001b[1;34m(self, labels, errors)\u001b[0m\n\u001b[0;32m   7068\u001b[0m \u001b[38;5;28;01mif\u001b[39;00m mask\u001b[38;5;241m.\u001b[39many():\n\u001b[0;32m   7069\u001b[0m     \u001b[38;5;28;01mif\u001b[39;00m errors \u001b[38;5;241m!=\u001b[39m \u001b[38;5;124m\"\u001b[39m\u001b[38;5;124mignore\u001b[39m\u001b[38;5;124m\"\u001b[39m:\n\u001b[1;32m-> 7070\u001b[0m         \u001b[38;5;28;01mraise\u001b[39;00m \u001b[38;5;167;01mKeyError\u001b[39;00m(\u001b[38;5;124mf\u001b[39m\u001b[38;5;124m\"\u001b[39m\u001b[38;5;132;01m{\u001b[39;00mlabels[mask]\u001b[38;5;241m.\u001b[39mtolist()\u001b[38;5;132;01m}\u001b[39;00m\u001b[38;5;124m not found in axis\u001b[39m\u001b[38;5;124m\"\u001b[39m)\n\u001b[0;32m   7071\u001b[0m     indexer \u001b[38;5;241m=\u001b[39m indexer[\u001b[38;5;241m~\u001b[39mmask]\n\u001b[0;32m   7072\u001b[0m \u001b[38;5;28;01mreturn\u001b[39;00m \u001b[38;5;28mself\u001b[39m\u001b[38;5;241m.\u001b[39mdelete(indexer)\n",
      "\u001b[1;31mKeyError\u001b[0m: \"['totalPrice'] not found in axis\""
     ]
    }
   ],
   "source": [
    "#input features for model\n",
    "X=data.drop(['totalPrice'],axis=1)\n",
    "#output features for model\n",
    "y=data['totalPrice']"
   ]
  },
  {
   "cell_type": "code",
   "execution_count": 8,
   "id": "01e5f41c",
   "metadata": {},
   "outputs": [],
   "source": [
    "from sklearn.model_selection import train_test_split\n",
    "X_train,X_test,y_train,y_test=train_test_split(X,y,test_size=0.30,random_state=2)"
   ]
  },
  {
   "cell_type": "code",
   "execution_count": 9,
   "id": "e2f29407",
   "metadata": {},
   "outputs": [
    {
     "name": "stdout",
     "output_type": "stream",
     "text": [
      "By using Linear Regression we got:\n",
      "Training data accuracy 0.7574698746154127\n",
      "Testing data accuracy 0.7576318049777959\n"
     ]
    }
   ],
   "source": [
    "from sklearn.linear_model import LinearRegression\n",
    "\n",
    "lr_model = LinearRegression()\n",
    "lr_model.fit(X_train, y_train)\n",
    "print(\"By using Linear Regression we got:\")\n",
    "print(\"Training data accuracy\",lr_model.score(X_train, y_train))\n",
    "print(\"Testing data accuracy\",lr_model.score(X_test, y_test))"
   ]
  },
  {
   "cell_type": "markdown",
   "id": "23a081e5",
   "metadata": {},
   "source": [
    "### RandomForest Model  "
   ]
  },
  {
   "cell_type": "code",
   "execution_count": 10,
   "id": "795e2b98",
   "metadata": {},
   "outputs": [
    {
     "data": {
      "text/plain": [
       "RandomForestRegressor()"
      ]
     },
     "execution_count": 10,
     "metadata": {},
     "output_type": "execute_result"
    }
   ],
   "source": [
    "from sklearn.ensemble import RandomForestRegressor\n",
    "rfm=RandomForestRegressor()\n",
    "rfm.fit(X_train,y_train)"
   ]
  },
  {
   "cell_type": "markdown",
   "id": "71a84367",
   "metadata": {},
   "source": [
    "Model Validation\n",
    "\n",
    "1> one way to verify the model is Mean Absolute Error (also called MAE).\n",
    "\n",
    "    i.e. error=actual−predicted\n",
    "    \n",
    "\n",
    " "
   ]
  },
  {
   "cell_type": "code",
   "execution_count": 11,
   "id": "703a8ff5",
   "metadata": {},
   "outputs": [
    {
     "name": "stdout",
     "output_type": "stream",
     "text": [
      "0.9848032043888097\n",
      "0.895634280563376\n"
     ]
    }
   ],
   "source": [
    "print(rfm.score(X_train,y_train))\n",
    "print(rfm.score(X_test,y_test))"
   ]
  },
  {
   "cell_type": "code",
   "execution_count": 12,
   "id": "f061c6b8",
   "metadata": {},
   "outputs": [
    {
     "data": {
      "text/plain": [
       "array([369.544     , 525.074     , 600.42      , ..., 168.91547619,\n",
       "       209.733     , 405.251     ])"
      ]
     },
     "execution_count": 12,
     "metadata": {},
     "output_type": "execute_result"
    }
   ],
   "source": [
    "pred=rfm.predict(X_test)\n",
    "pred"
   ]
  },
  {
   "cell_type": "code",
   "execution_count": 13,
   "id": "32716c46",
   "metadata": {},
   "outputs": [
    {
     "name": "stdout",
     "output_type": "stream",
     "text": [
      "32.73071897974043\n",
      "32.73071897974043\n"
     ]
    }
   ],
   "source": [
    "from sklearn.metrics import mean_absolute_error\n",
    "from sklearn import metrics\n",
    "print(mean_absolute_error(y_test,pred))\n",
    "print(metrics.mean_absolute_error(y_test,pred))"
   ]
  },
  {
   "cell_type": "markdown",
   "id": "ad58b687",
   "metadata": {},
   "source": [
    "#### Hyperparameter tuning \n",
    "1.GridSearchCV\n",
    "\n",
    "2.RandomizedSearchCV\n",
    "\n",
    "3.Bayesian Optimization-Automate Hyperparameter Tuning (Hyperopt)\n",
    "\n",
    "4.Sequential model based optimization\n",
    "\n",
    "5.Optuna-Automate Hyperparameter Tuning\n",
    "\n",
    "6.Genetic Algorithm\n"
   ]
  },
  {
   "cell_type": "markdown",
   "id": "79c5ad56",
   "metadata": {},
   "source": [
    "#### Main parameters used by RandomForest Algorithm are\n",
    "\n",
    "1> n_estimators --->    The number of trees in the forest.\n",
    "\n",
    "2> criterion--->{\"mse\", \"mae\"}-->The function to measure the quality of a split\n",
    "\n",
    "3> max_features--->{\"auto\", \"sqrt\", \"log2\"}-->    The number of features to consider when looking for the best split:\n"
   ]
  },
  {
   "cell_type": "code",
   "execution_count": 14,
   "id": "7afb6448",
   "metadata": {},
   "outputs": [
    {
     "data": {
      "text/plain": [
       "{'bootstrap': True,\n",
       " 'ccp_alpha': 0.0,\n",
       " 'criterion': 'mse',\n",
       " 'max_depth': None,\n",
       " 'max_features': 'auto',\n",
       " 'max_leaf_nodes': None,\n",
       " 'max_samples': None,\n",
       " 'min_impurity_decrease': 0.0,\n",
       " 'min_impurity_split': None,\n",
       " 'min_samples_leaf': 1,\n",
       " 'min_samples_split': 2,\n",
       " 'min_weight_fraction_leaf': 0.0,\n",
       " 'n_estimators': 100,\n",
       " 'n_jobs': None,\n",
       " 'oob_score': False,\n",
       " 'random_state': None,\n",
       " 'verbose': 0,\n",
       " 'warm_start': False}"
      ]
     },
     "execution_count": 14,
     "metadata": {},
     "output_type": "execute_result"
    }
   ],
   "source": [
    "rfm.get_params()"
   ]
  },
  {
   "cell_type": "code",
   "execution_count": 15,
   "id": "72c80542",
   "metadata": {},
   "outputs": [],
   "source": [
    "# from sklearn.model_selection import RandomizedSearchCV\n",
    "# rf_grid= {'n_estimators': np.arange(80,120,10),\n",
    "#       'criterion':[\"mse\", \"mae\"],\n",
    "#       'max_features': [\"auto\", \"sqrt\", \"log2\"]\n",
    "#   }\n",
    "# print(rf_grid)"
   ]
  },
  {
   "cell_type": "code",
   "execution_count": 16,
   "id": "24865a62",
   "metadata": {},
   "outputs": [],
   "source": [
    "# rfm_randomcv=RandomizedSearchCV(estimator=rfm,param_distributions=rf_grid,cv=3,n_jobs=-1,\n",
    "#                                random_state=20,verbose=1)\n",
    "# rfm_randomcv.fit(X_train,y_train)"
   ]
  },
  {
   "cell_type": "code",
   "execution_count": 18,
   "id": "cdd3586b",
   "metadata": {},
   "outputs": [],
   "source": [
    "# rfm_randomcv.best_params_"
   ]
  },
  {
   "cell_type": "code",
   "execution_count": 19,
   "id": "318a2d94",
   "metadata": {},
   "outputs": [],
   "source": [
    "rfm=RandomForestRegressor(max_depth=None,min_samples_leaf=5,min_samples_split=6,\n",
    "                          n_estimators=120,verbose=2,n_jobs=-1)"
   ]
  },
  {
   "cell_type": "code",
   "execution_count": 20,
   "id": "458dd02f",
   "metadata": {},
   "outputs": [
    {
     "name": "stderr",
     "output_type": "stream",
     "text": [
      "[Parallel(n_jobs=-1)]: Using backend ThreadingBackend with 12 concurrent workers.\n"
     ]
    },
    {
     "name": "stdout",
     "output_type": "stream",
     "text": [
      "building tree 1 of 120\n",
      "building tree 2 of 120\n",
      "building tree 3 of 120building tree 4 of 120\n",
      "building tree 5 of 120\n",
      "\n",
      "building tree 6 of 120building tree 7 of 120\n",
      "\n",
      "building tree 8 of 120\n",
      "building tree 9 of 120\n",
      "building tree 10 of 120building tree 11 of 120\n",
      "building tree 12 of 120\n",
      "\n",
      "building tree 13 of 120\n",
      "building tree 14 of 120\n",
      "building tree 15 of 120\n",
      "building tree 16 of 120\n",
      "building tree 17 of 120\n",
      "building tree 18 of 120\n",
      "building tree 19 of 120\n",
      "building tree 20 of 120building tree 21 of 120\n",
      "\n",
      "building tree 22 of 120\n",
      "building tree 23 of 120building tree 24 of 120\n",
      "\n",
      "building tree 25 of 120\n",
      "building tree 26 of 120\n",
      "building tree 27 of 120\n",
      "building tree 28 of 120\n",
      "building tree 29 of 120\n",
      "building tree 30 of 120\n",
      "building tree 31 of 120\n",
      "building tree 32 of 120\n",
      "building tree 33 of 120\n",
      "building tree 34 of 120\n",
      "building tree 35 of 120\n",
      "building tree 36 of 120\n"
     ]
    },
    {
     "name": "stderr",
     "output_type": "stream",
     "text": [
      "[Parallel(n_jobs=-1)]: Done  17 tasks      | elapsed:    3.1s\n"
     ]
    },
    {
     "name": "stdout",
     "output_type": "stream",
     "text": [
      "building tree 37 of 120\n",
      "building tree 38 of 120\n",
      "building tree 39 of 120\n",
      "building tree 40 of 120\n",
      "building tree 41 of 120\n",
      "building tree 42 of 120\n",
      "building tree 43 of 120\n",
      "building tree 44 of 120\n",
      "building tree 45 of 120\n",
      "building tree 46 of 120building tree 47 of 120\n",
      "\n",
      "building tree 48 of 120\n",
      "building tree 49 of 120\n",
      "building tree 50 of 120\n",
      "building tree 51 of 120\n",
      "building tree 52 of 120\n",
      "building tree 53 of 120\n",
      "building tree 54 of 120\n",
      "building tree 55 of 120\n",
      "building tree 56 of 120\n",
      "building tree 57 of 120\n",
      "building tree 58 of 120\n",
      "building tree 59 of 120\n",
      "building tree 60 of 120\n",
      "building tree 61 of 120\n",
      "building tree 62 of 120\n",
      "building tree 63 of 120\n",
      "building tree 64 of 120\n",
      "building tree 65 of 120\n",
      "building tree 66 of 120\n",
      "building tree 67 of 120\n",
      "building tree 68 of 120\n",
      "building tree 69 of 120\n",
      "building tree 70 of 120\n",
      "building tree 71 of 120\n",
      "building tree 72 of 120\n",
      "building tree 73 of 120\n",
      "building tree 74 of 120\n",
      "building tree 75 of 120\n",
      "building tree 76 of 120\n",
      "building tree 77 of 120\n",
      "building tree 78 of 120\n",
      "building tree 79 of 120\n",
      "building tree 80 of 120\n",
      "building tree 81 of 120\n",
      "building tree 82 of 120\n",
      "building tree 83 of 120\n",
      "building tree 84 of 120\n",
      "building tree 85 of 120\n",
      "building tree 86 of 120\n",
      "building tree 87 of 120\n",
      "building tree 88 of 120\n",
      "building tree 89 of 120\n",
      "building tree 90 of 120\n",
      "building tree 91 of 120\n",
      "building tree 92 of 120\n",
      "building tree 93 of 120\n",
      "building tree 94 of 120\n",
      "building tree 95 of 120\n",
      "building tree 96 of 120\n",
      "building tree 97 of 120\n",
      "building tree 98 of 120\n",
      "building tree 99 of 120\n",
      "building tree 100 of 120\n",
      "building tree 101 of 120\n",
      "building tree 102 of 120\n",
      "building tree 103 of 120\n",
      "building tree 104 of 120\n",
      "building tree 105 of 120\n",
      "building tree 106 of 120\n",
      "building tree 107 of 120\n",
      "building tree 108 of 120\n",
      "building tree 109 of 120\n",
      "building tree 110 of 120\n",
      "building tree 111 of 120\n",
      "building tree 112 of 120\n",
      "building tree 113 of 120\n",
      "building tree 114 of 120\n",
      "building tree 115 of 120\n",
      "building tree 116 of 120\n",
      "building tree 117 of 120\n",
      "building tree 118 of 120\n",
      "building tree 119 of 120\n",
      "building tree 120 of 120\n"
     ]
    },
    {
     "name": "stderr",
     "output_type": "stream",
     "text": [
      "[Parallel(n_jobs=-1)]: Done 120 out of 120 | elapsed:   17.9s finished\n"
     ]
    },
    {
     "data": {
      "text/plain": [
       "RandomForestRegressor(min_samples_leaf=5, min_samples_split=6, n_estimators=120,\n",
       "                      n_jobs=-1, verbose=2)"
      ]
     },
     "execution_count": 20,
     "metadata": {},
     "output_type": "execute_result"
    }
   ],
   "source": [
    "rfm.fit(X_train,y_train)"
   ]
  },
  {
   "cell_type": "code",
   "execution_count": 21,
   "id": "d11d9d22",
   "metadata": {},
   "outputs": [
    {
     "name": "stderr",
     "output_type": "stream",
     "text": [
      "[Parallel(n_jobs=12)]: Using backend ThreadingBackend with 12 concurrent workers.\n",
      "[Parallel(n_jobs=12)]: Done  17 tasks      | elapsed:    0.2s\n",
      "[Parallel(n_jobs=12)]: Done 120 out of 120 | elapsed:    0.9s finished\n",
      "[Parallel(n_jobs=12)]: Using backend ThreadingBackend with 12 concurrent workers.\n",
      "[Parallel(n_jobs=12)]: Done  17 tasks      | elapsed:    0.1s\n"
     ]
    },
    {
     "name": "stdout",
     "output_type": "stream",
     "text": [
      "0.944283757229526\n",
      "0.8966624691850038\n"
     ]
    },
    {
     "name": "stderr",
     "output_type": "stream",
     "text": [
      "[Parallel(n_jobs=12)]: Done 120 out of 120 | elapsed:    0.4s finished\n"
     ]
    }
   ],
   "source": [
    "print(rfm.score(X_train,y_train))\n",
    "print(rfm.score(X_test,y_test))"
   ]
  },
  {
   "cell_type": "code",
   "execution_count": 22,
   "id": "68744d9d",
   "metadata": {},
   "outputs": [
    {
     "data": {
      "text/plain": [
       "Index(['tradeTime', 'followers', 'square', 'livingRoom', 'drawingRoom',\n",
       "       'kitchen', 'bathRoom', 'constructionTime', 'communityAverage',\n",
       "       'renovationCondition_2', 'renovationCondition_3',\n",
       "       'renovationCondition_4', 'buildingStructure_2', 'buildingStructure_3',\n",
       "       'buildingStructure_4', 'buildingStructure_5', 'buildingStructure_6',\n",
       "       'elevator_1.0'],\n",
       "      dtype='object')"
      ]
     },
     "execution_count": 22,
     "metadata": {},
     "output_type": "execute_result"
    }
   ],
   "source": [
    "X.columns"
   ]
  },
  {
   "cell_type": "code",
   "execution_count": 23,
   "id": "24ea0f75",
   "metadata": {},
   "outputs": [],
   "source": [
    "test_data=[[2010,120,130,3,1,2,2,2005,45000,0,0,1,0,0,0,0,0,1]]"
   ]
  },
  {
   "cell_type": "code",
   "execution_count": 24,
   "id": "1c193ab1",
   "metadata": {},
   "outputs": [
    {
     "name": "stdout",
     "output_type": "stream",
     "text": [
      "[549.00384763]\n"
     ]
    },
    {
     "name": "stderr",
     "output_type": "stream",
     "text": [
      "[Parallel(n_jobs=12)]: Using backend ThreadingBackend with 12 concurrent workers.\n",
      "[Parallel(n_jobs=12)]: Done  17 tasks      | elapsed:    0.0s\n",
      "[Parallel(n_jobs=12)]: Done 120 out of 120 | elapsed:    0.0s finished\n"
     ]
    }
   ],
   "source": [
    "print(rfm.predict(test_data))"
   ]
  },
  {
   "cell_type": "markdown",
   "id": "c6e3d9e7",
   "metadata": {},
   "source": [
    "Saving the model for future use..."
   ]
  },
  {
   "cell_type": "code",
   "execution_count": 1,
   "id": "21adfc18",
   "metadata": {},
   "outputs": [],
   "source": [
    "import pickle"
   ]
  },
  {
   "cell_type": "code",
   "execution_count": 2,
   "id": "e437d965",
   "metadata": {},
   "outputs": [
    {
     "ename": "NameError",
     "evalue": "name 'rfm' is not defined",
     "output_type": "error",
     "traceback": [
      "\u001b[1;31m---------------------------------------------------------------------------\u001b[0m",
      "\u001b[1;31mNameError\u001b[0m                                 Traceback (most recent call last)",
      "Cell \u001b[1;32mIn[2], line 2\u001b[0m\n\u001b[0;32m      1\u001b[0m \u001b[38;5;28;01mwith\u001b[39;00m \u001b[38;5;28mopen\u001b[39m(\u001b[38;5;124m'\u001b[39m\u001b[38;5;124mHousing_Model\u001b[39m\u001b[38;5;124m'\u001b[39m,\u001b[38;5;124m'\u001b[39m\u001b[38;5;124mwb\u001b[39m\u001b[38;5;124m'\u001b[39m) \u001b[38;5;28;01mas\u001b[39;00m f:\n\u001b[1;32m----> 2\u001b[0m     pickle\u001b[38;5;241m.\u001b[39mdump(\u001b[43mrfm\u001b[49m,f)\n",
      "\u001b[1;31mNameError\u001b[0m: name 'rfm' is not defined"
     ]
    }
   ],
   "source": [
    "with open('Housing_Model','wb') as f:\n",
    "    pickle.dump(rfm,f)"
   ]
  },
  {
   "cell_type": "code",
   "execution_count": 27,
   "id": "10ba19db",
   "metadata": {},
   "outputs": [],
   "source": [
    "#Testing the model\n",
    "with open('Housing_Model','rb') as f:\n",
    "    mod=pickle.load(f)"
   ]
  },
  {
   "cell_type": "code",
   "execution_count": 28,
   "id": "329e6f89",
   "metadata": {},
   "outputs": [
    {
     "name": "stderr",
     "output_type": "stream",
     "text": [
      "[Parallel(n_jobs=12)]: Using backend ThreadingBackend with 12 concurrent workers.\n",
      "[Parallel(n_jobs=12)]: Done  17 tasks      | elapsed:    0.0s\n",
      "[Parallel(n_jobs=12)]: Done 120 out of 120 | elapsed:    0.0s finished\n"
     ]
    },
    {
     "data": {
      "text/plain": [
       "array([549.00384763])"
      ]
     },
     "execution_count": 28,
     "metadata": {},
     "output_type": "execute_result"
    }
   ],
   "source": [
    "x=mod.predict([[2010,120,130,3,1,2,2,2005,45000,0,0,1,0,0,0,0,0,1]])\n",
    "x"
   ]
  },
  {
   "cell_type": "code",
   "execution_count": 31,
   "id": "23c26f77",
   "metadata": {},
   "outputs": [
    {
     "name": "stdout",
     "output_type": "stream",
     "text": [
      "549.0038476271143\n"
     ]
    }
   ],
   "source": [
    "print(float(x))"
   ]
  },
  {
   "cell_type": "code",
   "execution_count": null,
   "id": "4a03b0c5",
   "metadata": {},
   "outputs": [],
   "source": []
  },
  {
   "cell_type": "code",
   "execution_count": null,
   "id": "87455dab",
   "metadata": {},
   "outputs": [],
   "source": []
  },
  {
   "cell_type": "code",
   "execution_count": null,
   "id": "42b08835",
   "metadata": {},
   "outputs": [],
   "source": []
  }
 ],
 "metadata": {
  "kernelspec": {
   "display_name": "Python 3 (ipykernel)",
   "language": "python",
   "name": "python3"
  },
  "language_info": {
   "codemirror_mode": {
    "name": "ipython",
    "version": 3
   },
   "file_extension": ".py",
   "mimetype": "text/x-python",
   "name": "python",
   "nbconvert_exporter": "python",
   "pygments_lexer": "ipython3",
   "version": "3.12.3"
  }
 },
 "nbformat": 4,
 "nbformat_minor": 5
}
